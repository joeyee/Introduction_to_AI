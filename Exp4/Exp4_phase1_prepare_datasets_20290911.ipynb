{
 "cells": [
  {
   "cell_type": "markdown",
   "id": "d7816409",
   "metadata": {},
   "source": [
    "# Pre-training GPT2, Step1 制备文本数据集"
   ]
  },
  {
   "cell_type": "markdown",
   "id": "53f48b4a",
   "metadata": {},
   "source": [
    "本次实验的代码参考了书籍《从零构建大模型》\n",
    "\n",
    "English version: \"Build a Large Language Model From Scratch\" \n",
    "\n",
    "作者：[美] 塞巴斯蒂安·拉施卡 [Sebastian Raschka]\n",
    "\n",
    "译者：覃立波 冯骁骋 刘乾\n",
    "\n",
    "出版社：人民邮电出版社有限公司 \n",
    "\n",
    "出版时间：2025-04-01 \n",
    "\n",
    "ISBN：9787115666000\n",
    "\n",
    "书籍代码库：\n",
    "\n",
    "https://github.com/rasbt/LLMs-from-scratch/tree/main\n",
    "\n",
    "\n"
   ]
  },
  {
   "cell_type": "markdown",
   "id": "d8ebc965",
   "metadata": {},
   "source": [
    "## (1) 下载开源的文本数据\n",
    "我们的目标是将这篇包含20479个字符的短篇小说分割为独立的单词和特殊字符，以便在后续章节中将它们转换为嵌入向量，进而用于大语言模型训练。注意　构建大语言模型需要处理数百万篇文章和成千上万本图书，通常多达数千兆字节(GB)数据。不过，出于教学目的，使用小规模的文本样本（如一本书）就足以说明文本处理步骤的核心思想，并且可以在合理时间内在消费级硬件上完成运行。"
   ]
  },
  {
   "cell_type": "code",
   "execution_count": null,
   "id": "f6cdbd3d",
   "metadata": {},
   "outputs": [
    {
     "name": "stdout",
     "output_type": "stream",
     "text": [
      "/Users/yizhou/teaching/人工智能导论/code\n",
      "Total number of character: 20479\n",
      "I HAD always thought Jack Gisburn rather a cheap genius--though a good fellow enough--so it was no g\n"
     ]
    }
   ],
   "source": [
    "\n",
    "#下载简化数据集的文本（一本开源的英文短篇小说 verdict），设置下载地址，查看本地路径，打印输出小说对应的前100个字符。\n",
    "import urllib.request\n",
    "url = (\"https://raw.githubusercontent.com/rasbt/LLMs-from-scratch/refs/heads/main/ch02/01_main-chapter-code/the-verdict.txt\")\n",
    "file_path = \"the-verdict.txt\"\n",
    "urllib.request.urlretrieve(url, file_path)\n",
    "\n",
    "#print current working directory\n",
    "import os\n",
    "print('vertex is downloaded at', os.getcwd())\n",
    "\n",
    "# 通过Python读取短篇小说TheVerdict作为文本样本,\n",
    "#打印(print)命令首先输出该文件的字符总数，然后展示文件的前100个字符作为内容示例：\n",
    "with open(\"the-verdict.txt\", \"r\", encoding=\"utf-8\") as f:\n",
    "    raw_text = f.read()\n",
    "print(\"Total number of character:\", len(raw_text))\n",
    "print(raw_text[:100])"
   ]
  },
  {
   "cell_type": "markdown",
   "id": "b64fdbed",
   "metadata": {},
   "source": [
    "## (2) 选择并测试分词器\n",
    "接下来，我们将把这些词元从Python字符串转换为整数表示，以生成词元token ID。这一过程是将词元ID转换为嵌入向量前的必经步骤。我们将使用现有的Python开源库tiktoken，它基于Rust的源代码非常高效地实现了BPE算法。与其他Python库类似，可以通过Python的pip安装器从终端安装tiktoken库, 如:\n",
    "\n",
    "pip install tiktoken"
   ]
  },
  {
   "cell_type": "code",
   "execution_count": 5,
   "id": "69c147ad",
   "metadata": {},
   "outputs": [
    {
     "name": "stdout",
     "output_type": "stream",
     "text": [
      "tiktoken version: 0.11.0\n",
      "[15496, 11, 466, 345, 588, 8887, 30, 220, 50256, 554, 262, 4252, 18250, 8812, 2114, 1659, 617, 6439, 8474, 13]\n",
      "Hello, do you like tea? <|endoftext|> In the sunlit terracesof some unknown Place.\n"
     ]
    }
   ],
   "source": [
    "from importlib.metadata import version\n",
    "import tiktoken\n",
    "print(\"tiktoken version:\", version(\"tiktoken\"))\n",
    "tokenizer = tiktoken.get_encoding(\"gpt2\")\n",
    "text = (\n",
    "    \"Hello, do you like tea? <|endoftext|> In the sunlit terraces\"\n",
    "     \"of some unknown Place.\"\n",
    ")\n",
    "\n",
    "#tittoken通过encode函数实现对文本的分词和词元id转换\n",
    "integers = tokenizer.encode(text, allowed_special={\"<|endoftext|>\"})\n",
    "print(integers)\n",
    "\n",
    "#反过来，通过decode函数实现从数字id到文本词元的复原\n",
    "strings = tokenizer.decode(integers)\n",
    "print(strings)"
   ]
  },
  {
   "cell_type": "markdown",
   "id": "8811ed7e",
   "metadata": {},
   "source": [
    "## (3)制备训练所需的训练集和验证集。\n",
    "训练和验证数据包括 输入的文本‘序列’ x 和对应的下一个文本‘单词’ target。\n",
    "训练数据的总数大约是验证数据的4倍。\n",
    "\n",
    "输入的文本序列和对应的目标文本，利用滑窗的形式从小说的文本中采取。\n",
    "\n",
    "下图采用的是步长为1的滑窗（输入x和输出y序列仅有一个单词不同）\n",
    "\n",
    "\n",
    "<img src=\"https://sebastianraschka.com/images/LLMs-from-scratch-images/ch02_compressed/13.webp?123\" width=\"500px\">\n"
   ]
  },
  {
   "cell_type": "code",
   "execution_count": 2,
   "id": "734e9d1f",
   "metadata": {},
   "outputs": [],
   "source": [
    "#定义一个数据集，用input_ids和target_ids分别存储输入和目标文本序列的词元id\n",
    "#用max_length和stride来控制输入和目标文本序列的长度，以及文本跳跃的步长\n",
    "#用allowed_special={\"<|endoftext|>\"}来处理特殊字符\n",
    "#用torch.tensor()将词元id转换为张量\n",
    "#用__len__()和__getitem__()来实现数据集的索引和获取\n",
    "#用DataLoader来实现数据集的批量加载\n",
    "\n",
    "from torch.utils.data import Dataset, DataLoader\n",
    "\n",
    "\n",
    "class GPTDatasetV1(Dataset):\n",
    "    def __init__(self, txt, tokenizer, max_length, stride):\n",
    "        self.input_ids = []\n",
    "        self.target_ids = []\n",
    "\n",
    "        # Tokenize the entire text\n",
    "        token_ids = tokenizer.encode(txt, allowed_special={\"<|endoftext|>\"})\n",
    "        assert len(token_ids) > max_length, \"Number of tokenized inputs must at least be equal to max_length+1\"\n",
    "\n",
    "        # Use a sliding window to chunk the book into overlapping sequences of max_length\n",
    "        for i in range(0, len(token_ids) - max_length, stride):\n",
    "            input_chunk = token_ids[i:i + max_length]\n",
    "            target_chunk = token_ids[i + 1: i + max_length + 1]\n",
    "            self.input_ids.append(torch.tensor(input_chunk))\n",
    "            self.target_ids.append(torch.tensor(target_chunk))\n",
    "\n",
    "    def __len__(self):\n",
    "        return len(self.input_ids)\n",
    "\n",
    "    def __getitem__(self, idx):\n",
    "        return self.input_ids[idx], self.target_ids[idx]"
   ]
  },
  {
   "cell_type": "code",
   "execution_count": 3,
   "id": "10b05c51",
   "metadata": {},
   "outputs": [],
   "source": [
    "#定义一个函数，用create_dataloader_v1来创建数据加载器\n",
    "#其中输入参数txt是文本，batch_size是批量大小，max_length是输入和目标文本序列的长度，\n",
    "# stride是文本跳跃的步长，shuffle是是否打乱数据，drop_last是是否丢弃最后一个不完整的批次，\n",
    "# num_workers是数据加载的线程数\n",
    "#用tokenizer来分词\n",
    "#用GPTDatasetV1来创建数据集\n",
    "#用DataLoader来创建数据加载器\n",
    "#用return dataloader来返回数据加载器\n",
    "\n",
    "def create_dataloader_v1(txt, batch_size=4, max_length=256, \n",
    "                         stride=128, shuffle=True, drop_last=True,\n",
    "                         num_workers=0):\n",
    "\n",
    "    # Initialize the tokenizer\n",
    "    tokenizer = tiktoken.get_encoding(\"gpt2\")\n",
    "\n",
    "    # Create dataset\n",
    "    dataset = GPTDatasetV1(txt, tokenizer, max_length, stride)\n",
    "\n",
    "    # Create dataloader\n",
    "    dataloader = DataLoader(\n",
    "        dataset,\n",
    "        batch_size=batch_size,\n",
    "        shuffle=shuffle,\n",
    "        drop_last=drop_last,\n",
    "        num_workers=num_workers\n",
    "    )\n",
    "\n",
    "    return dataloader"
   ]
  },
  {
   "cell_type": "code",
   "execution_count": 10,
   "id": "106d9747",
   "metadata": {},
   "outputs": [
    {
     "name": "stdout",
     "output_type": "stream",
     "text": [
      "first_input_batch: tensor([[  40,  367, 2885, 1464]])\n",
      "first_target_batch: tensor([[ 367, 2885, 1464, 1807]])\n",
      "I HAD always\n",
      " HAD always thought\n"
     ]
    }
   ],
   "source": [
    "#测试数据集访问。\n",
    "import torch\n",
    "import tiktoken\n",
    "with open(\"the-verdict.txt\", \"r\", encoding=\"utf-8\") as f:\n",
    "    raw_text = f.read()\n",
    "\n",
    "dataloader = create_dataloader_v1(\n",
    "    raw_text, batch_size=1, max_length=4, stride=1, shuffle=False\n",
    ")\n",
    "\n",
    "data_iter  = iter(dataloader) # 创建数据迭代器\n",
    "first_input_batch, first_target_batch = next(data_iter) # 用next函数来顺序访问每一个batch\n",
    "print('first_input_batch:', first_input_batch)\n",
    "print('first_target_batch:', first_target_batch)\n",
    "\n",
    "\n",
    "#打印第一个batch的输入和目标文本序列\n",
    "print(tokenizer.decode(first_input_batch[0].numpy()))\n",
    "print(tokenizer.decode(first_target_batch[0].numpy()))"
   ]
  },
  {
   "cell_type": "markdown",
   "id": "f7f0a0a5",
   "metadata": {},
   "source": [
    "## (4)实验任务一， 通过调整哪个参数可以使得两个输入文本的序列之间不存在重合的文字？"
   ]
  },
  {
   "cell_type": "code",
   "execution_count": null,
   "id": "b069f50f",
   "metadata": {},
   "outputs": [],
   "source": [
    "#请在此格写出代码，并观察相邻两个输入文本序列的token ids和对应的文本。"
   ]
  }
 ],
 "metadata": {
  "kernelspec": {
   "display_name": "tgars2025",
   "language": "python",
   "name": "python3"
  },
  "language_info": {
   "codemirror_mode": {
    "name": "ipython",
    "version": 3
   },
   "file_extension": ".py",
   "mimetype": "text/x-python",
   "name": "python",
   "nbconvert_exporter": "python",
   "pygments_lexer": "ipython3",
   "version": "3.12.9"
  }
 },
 "nbformat": 4,
 "nbformat_minor": 5
}
